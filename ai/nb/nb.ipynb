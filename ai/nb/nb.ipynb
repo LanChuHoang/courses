{
 "cells": [
  {
   "cell_type": "code",
   "execution_count": 151,
   "metadata": {},
   "outputs": [
    {
     "name": "stdout",
     "output_type": "stream",
     "text": [
      "Requirement already satisfied: contractions in /usr/local/anaconda3/lib/python3.10/site-packages (0.1.73)\n",
      "Requirement already satisfied: textsearch>=0.0.21 in /usr/local/anaconda3/lib/python3.10/site-packages (from contractions) (0.0.24)\n",
      "Requirement already satisfied: pyahocorasick in /usr/local/anaconda3/lib/python3.10/site-packages (from textsearch>=0.0.21->contractions) (2.0.0)\n",
      "Requirement already satisfied: anyascii in /usr/local/anaconda3/lib/python3.10/site-packages (from textsearch>=0.0.21->contractions) (0.3.2)\n"
     ]
    }
   ],
   "source": [
    "from sklearn.feature_extraction.text import TfidfVectorizer\n",
    "from sklearn.naive_bayes import MultinomialNB\n",
    "from sklearn.model_selection import KFold, train_test_split\n",
    "from sklearn.metrics import accuracy_score, precision_score, recall_score, f1_score, confusion_matrix, classification_report, ConfusionMatrixDisplay\n",
    "import pandas as pd\n",
    "import numpy as np\n",
    "\n",
    "import re\n",
    "import string\n",
    "import sys  \n",
    "!{sys.executable} -m pip install contractions\n",
    "import contractions\n",
    "from nltk.corpus import stopwords\n",
    "from nltk.stem import PorterStemmer\n",
    "from nltk.tokenize import TweetTokenizer"
   ]
  },
  {
   "cell_type": "code",
   "execution_count": 85,
   "metadata": {},
   "outputs": [],
   "source": [
    "raw_data = pd.read_csv(\"./imdb_dataset.csv\")\n",
    "raw_x = raw_data.iloc[:, 0]\n",
    "raw_y = raw_data.iloc[:, 1]"
   ]
  },
  {
   "cell_type": "code",
   "execution_count": 86,
   "metadata": {},
   "outputs": [
    {
     "data": {
      "text/html": [
       "<div>\n",
       "<style scoped>\n",
       "    .dataframe tbody tr th:only-of-type {\n",
       "        vertical-align: middle;\n",
       "    }\n",
       "\n",
       "    .dataframe tbody tr th {\n",
       "        vertical-align: top;\n",
       "    }\n",
       "\n",
       "    .dataframe thead th {\n",
       "        text-align: right;\n",
       "    }\n",
       "</style>\n",
       "<table border=\"1\" class=\"dataframe\">\n",
       "  <thead>\n",
       "    <tr style=\"text-align: right;\">\n",
       "      <th></th>\n",
       "      <th>review</th>\n",
       "      <th>sentiment</th>\n",
       "    </tr>\n",
       "  </thead>\n",
       "  <tbody>\n",
       "    <tr>\n",
       "      <th>0</th>\n",
       "      <td>One of the other reviewers has mentioned that ...</td>\n",
       "      <td>positive</td>\n",
       "    </tr>\n",
       "    <tr>\n",
       "      <th>1</th>\n",
       "      <td>A wonderful little production. &lt;br /&gt;&lt;br /&gt;The...</td>\n",
       "      <td>positive</td>\n",
       "    </tr>\n",
       "    <tr>\n",
       "      <th>2</th>\n",
       "      <td>I thought this was a wonderful way to spend ti...</td>\n",
       "      <td>positive</td>\n",
       "    </tr>\n",
       "    <tr>\n",
       "      <th>3</th>\n",
       "      <td>Basically there's a family where a little boy ...</td>\n",
       "      <td>negative</td>\n",
       "    </tr>\n",
       "    <tr>\n",
       "      <th>4</th>\n",
       "      <td>Petter Mattei's \"Love in the Time of Money\" is...</td>\n",
       "      <td>positive</td>\n",
       "    </tr>\n",
       "    <tr>\n",
       "      <th>...</th>\n",
       "      <td>...</td>\n",
       "      <td>...</td>\n",
       "    </tr>\n",
       "    <tr>\n",
       "      <th>49995</th>\n",
       "      <td>I thought this movie did a down right good job...</td>\n",
       "      <td>positive</td>\n",
       "    </tr>\n",
       "    <tr>\n",
       "      <th>49996</th>\n",
       "      <td>Bad plot, bad dialogue, bad acting, idiotic di...</td>\n",
       "      <td>negative</td>\n",
       "    </tr>\n",
       "    <tr>\n",
       "      <th>49997</th>\n",
       "      <td>I am a Catholic taught in parochial elementary...</td>\n",
       "      <td>negative</td>\n",
       "    </tr>\n",
       "    <tr>\n",
       "      <th>49998</th>\n",
       "      <td>I'm going to have to disagree with the previou...</td>\n",
       "      <td>negative</td>\n",
       "    </tr>\n",
       "    <tr>\n",
       "      <th>49999</th>\n",
       "      <td>No one expects the Star Trek movies to be high...</td>\n",
       "      <td>negative</td>\n",
       "    </tr>\n",
       "  </tbody>\n",
       "</table>\n",
       "<p>50000 rows × 2 columns</p>\n",
       "</div>"
      ],
      "text/plain": [
       "                                                  review sentiment\n",
       "0      One of the other reviewers has mentioned that ...  positive\n",
       "1      A wonderful little production. <br /><br />The...  positive\n",
       "2      I thought this was a wonderful way to spend ti...  positive\n",
       "3      Basically there's a family where a little boy ...  negative\n",
       "4      Petter Mattei's \"Love in the Time of Money\" is...  positive\n",
       "...                                                  ...       ...\n",
       "49995  I thought this movie did a down right good job...  positive\n",
       "49996  Bad plot, bad dialogue, bad acting, idiotic di...  negative\n",
       "49997  I am a Catholic taught in parochial elementary...  negative\n",
       "49998  I'm going to have to disagree with the previou...  negative\n",
       "49999  No one expects the Star Trek movies to be high...  negative\n",
       "\n",
       "[50000 rows x 2 columns]"
      ]
     },
     "execution_count": 86,
     "metadata": {},
     "output_type": "execute_result"
    }
   ],
   "source": [
    "raw_data"
   ]
  },
  {
   "cell_type": "code",
   "execution_count": 87,
   "metadata": {},
   "outputs": [
    {
     "data": {
      "text/plain": [
       "0        One of the other reviewers has mentioned that ...\n",
       "1        A wonderful little production. <br /><br />The...\n",
       "2        I thought this was a wonderful way to spend ti...\n",
       "3        Basically there's a family where a little boy ...\n",
       "4        Petter Mattei's \"Love in the Time of Money\" is...\n",
       "                               ...                        \n",
       "49995    I thought this movie did a down right good job...\n",
       "49996    Bad plot, bad dialogue, bad acting, idiotic di...\n",
       "49997    I am a Catholic taught in parochial elementary...\n",
       "49998    I'm going to have to disagree with the previou...\n",
       "49999    No one expects the Star Trek movies to be high...\n",
       "Name: review, Length: 50000, dtype: object"
      ]
     },
     "execution_count": 87,
     "metadata": {},
     "output_type": "execute_result"
    }
   ],
   "source": [
    "raw_x"
   ]
  },
  {
   "cell_type": "code",
   "execution_count": 106,
   "metadata": {},
   "outputs": [],
   "source": [
    "from nltk.corpus import wordnet\n",
    "\n",
    "def Negation(sentence):\t\n",
    "  '''\n",
    "  Input: Tokenized sentence (List of words)\n",
    "  Output: Tokenized sentence with negation handled (List of words)\n",
    "  '''\n",
    "  temp = int(0)\n",
    "  for i in range(len(sentence)):\n",
    "      if sentence[i-1] in ['not',\"n't\"]:\n",
    "          antonyms = []\n",
    "          for syn in wordnet.synsets(sentence[i]):\n",
    "              syns = wordnet.synsets(sentence[i])\n",
    "              w1 = syns[0].name()\n",
    "              temp = 0\n",
    "              for l in syn.lemmas():\n",
    "                  if l.antonyms():\n",
    "                      antonyms.append(l.antonyms()[0].name())\n",
    "              max_dissimilarity = 0\n",
    "              for ant in antonyms:\n",
    "                  syns = wordnet.synsets(ant)\n",
    "                  w2 = syns[0].name()\n",
    "                  syns = wordnet.synsets(sentence[i])\n",
    "                  w1 = syns[0].name()\n",
    "                  word1 = wordnet.synset(w1)\n",
    "                  word2 = wordnet.synset(w2)\n",
    "                  if isinstance(word1.wup_similarity(word2), float) or isinstance(word1.wup_similarity(word2), int):\n",
    "                      temp = 1 - word1.wup_similarity(word2)\n",
    "                  if temp>max_dissimilarity:\n",
    "                      max_dissimilarity = temp\n",
    "                      antonym_max = ant\n",
    "                      sentence[i] = antonym_max\n",
    "                      sentence[i-1] = ''\n",
    "  while '' in sentence:\n",
    "      sentence.remove('')\n",
    "  return sentence"
   ]
  },
  {
   "cell_type": "code",
   "execution_count": 123,
   "metadata": {},
   "outputs": [],
   "source": [
    "stemmer = PorterStemmer()\n",
    "stopwords_english = stopwords.words('english')\n",
    "stopwords_english.remove('not')\n",
    "tokenizer = TweetTokenizer(preserve_case=False, strip_handles=True,\n",
    "                              reduce_len=True)\n",
    "\n",
    "def process_review(text):\n",
    "  text = text.lower()\n",
    "  text = re.sub('<.*?>+', ' ', text)\n",
    "  text = re.sub(r'https?:\\/\\/.*[\\r\\n]*', ' ', text)\n",
    "  text = re.sub(r'[0-9]', ' ', text) # removing number \n",
    "  text = re.sub('\\n', ' ', text)\n",
    "  text = contractions.fix(text)\n",
    "  text = re.sub('[%s]' % re.escape(string.punctuation), ' ', text)\n",
    "  \n",
    "  tokens = tokenizer.tokenize(text)\n",
    "  tokens = Negation(tokens)\n",
    "  \n",
    "  clean_text = []\n",
    "  for token in tokens:\n",
    "        if (token not in stopwords_english):\n",
    "            stem_word = stemmer.stem(token)\n",
    "            clean_text.append(stem_word)\n",
    "  return ' '.join(clean_text)"
   ]
  },
  {
   "cell_type": "code",
   "execution_count": 125,
   "metadata": {},
   "outputs": [
    {
     "name": "stdout",
     "output_type": "stream",
     "text": [
      "dislik movi\n"
     ]
    }
   ],
   "source": [
    "print(process_review(\"I dont like this movie\"))"
   ]
  },
  {
   "cell_type": "code",
   "execution_count": 126,
   "metadata": {},
   "outputs": [],
   "source": [
    "clean_data = raw_x.apply(process_review)\n"
   ]
  },
  {
   "cell_type": "code",
   "execution_count": 196,
   "metadata": {},
   "outputs": [],
   "source": [
    "vectorizer = TfidfVectorizer(ngram_range=(1, 3))"
   ]
  },
  {
   "cell_type": "code",
   "execution_count": 197,
   "metadata": {},
   "outputs": [],
   "source": [
    "transformed = vectorizer.fit_transform(clean_data)"
   ]
  },
  {
   "cell_type": "code",
   "execution_count": 198,
   "metadata": {},
   "outputs": [
    {
     "name": "stdout",
     "output_type": "stream",
     "text": [
      "7961333\n"
     ]
    }
   ],
   "source": [
    "print(len(vectorizer.get_feature_names_out()))"
   ]
  },
  {
   "cell_type": "code",
   "execution_count": 199,
   "metadata": {},
   "outputs": [],
   "source": [
    "def k_fold_evaluate(transformed, raw_y):\n",
    "  kf = KFold(n_splits=5)\n",
    "  accs = []\n",
    "  pres = []\n",
    "  recs = []\n",
    "  f1s = []\n",
    "  cons = []\n",
    "  for trains_ids, test_ids in kf.split(transformed, raw_y):\n",
    "    train_x, test_x, train_y, test_y = transformed[trains_ids], transformed[test_ids], raw_y[trains_ids], raw_y[test_ids]\n",
    "    clf = MultinomialNB().fit(train_x, train_y)\n",
    "    predicted = clf.predict(test_x)\n",
    "    acc = accuracy_score(predicted, test_y)\n",
    "    precision = precision_score(predicted, test_y, average=\"weighted\")\n",
    "    recall = recall_score(predicted, test_y, average=\"weighted\")\n",
    "    f1 = f1_score(predicted, test_y, average=\"weighted\")\n",
    "    con = confusion_matrix(predicted, test_y)\n",
    "    accs.append(acc)\n",
    "    pres.append(precision)\n",
    "    recs.append(recall)\n",
    "    f1s.append(f1)\n",
    "    cons.append(con)\n",
    "    model = clf\n",
    "  return model, accs, pres, recs, f1s, cons"
   ]
  },
  {
   "cell_type": "code",
   "execution_count": 200,
   "metadata": {},
   "outputs": [],
   "source": [
    "train_x, test_x, train_y, test_y = train_test_split(transformed, raw_y, train_size=0.8)\n",
    "model = MultinomialNB().fit(train_x, train_y)"
   ]
  },
  {
   "cell_type": "code",
   "execution_count": 201,
   "metadata": {},
   "outputs": [],
   "source": [
    "def evaluate(model, test_x, test_y):\n",
    "  predicted = model.predict(test_x)\n",
    "  conf_matrix = confusion_matrix(test_y, predicted)\n",
    "  \n",
    "  print('Classification Report:\\n', classification_report(test_y, predicted, digits=4))\n",
    "  print('Confusion Matrix:\\n')\n",
    "  ConfusionMatrixDisplay(conf_matrix).plot()"
   ]
  },
  {
   "cell_type": "code",
   "execution_count": 202,
   "metadata": {},
   "outputs": [
    {
     "name": "stdout",
     "output_type": "stream",
     "text": [
      "Classification Report:\n",
      "               precision    recall  f1-score   support\n",
      "\n",
      "    negative     0.8921    0.8933    0.8927      5005\n",
      "    positive     0.8929    0.8917    0.8923      4995\n",
      "\n",
      "    accuracy                         0.8925     10000\n",
      "   macro avg     0.8925    0.8925    0.8925     10000\n",
      "weighted avg     0.8925    0.8925    0.8925     10000\n",
      "\n",
      "Confusion Matrix:\n",
      "\n"
     ]
    },
    {
     "data": {
      "image/png": "[encoded data removed]",
      "text/plain": [
       "<Figure size 640x480 with 2 Axes>"
      ]
     },
     "metadata": {},
     "output_type": "display_data"
    }
   ],
   "source": [
    "evaluate(model, test_x, test_y)"
   ]
  },
  {
   "cell_type": "code",
   "execution_count": 203,
   "metadata": {},
   "outputs": [
    {
     "data": {
      "text/plain": [
       "array(['negative'], dtype='<U8')"
      ]
     },
     "execution_count": 203,
     "metadata": {},
     "output_type": "execute_result"
    }
   ],
   "source": [
    "model.predict(vectorizer.transform([process_review(\"This movie is not good\")]))"
   ]
  }
 ],
 "metadata": {
  "kernelspec": {
   "display_name": "base",
   "language": "python",
   "name": "python3"
  },
  "language_info": {
   "codemirror_mode": {
    "name": "ipython",
    "version": 3
   },
   "file_extension": ".py",
   "mimetype": "text/x-python",
   "name": "python",
   "nbconvert_exporter": "python",
   "pygments_lexer": "ipython3",
   "version": "3.10.9"
  },
  "orig_nbformat": 4
 },
 "nbformat": 4,
 "nbformat_minor": 2
}
