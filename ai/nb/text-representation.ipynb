{
 "cells": [
  {
   "attachments": {},
   "cell_type": "markdown",
   "metadata": {},
   "source": [
    "### 1. Bag of Word (BoW)"
   ]
  },
  {
   "cell_type": "code",
   "execution_count": 53,
   "metadata": {},
   "outputs": [],
   "source": [
    "from sklearn.feature_extraction.text import CountVectorizer\n",
    "# cv = CountVectorizer()\n",
    "# cv = CountVectorizer(binary=True) # in binary form\n",
    "# cv = CountVectorizer(min_df=2) # min frequency threshold\n",
    "# cv = CountVectorizer(max_df=2) # max frequency threshold\n",
    "cv = CountVectorizer(ngram_range=(1, 3), max_features=10) # allow 1, 2, and 3 gram, with maximum 10 features"
   ]
  },
  {
   "cell_type": "code",
   "execution_count": 54,
   "metadata": {},
   "outputs": [],
   "source": [
    "corpus = [\"text text is very good\", \"text and voice are very different\", \"voice is lound\"]"
   ]
  },
  {
   "cell_type": "code",
   "execution_count": 55,
   "metadata": {},
   "outputs": [],
   "source": [
    "transformed = cv.fit_transform(corpus)"
   ]
  },
  {
   "cell_type": "code",
   "execution_count": 56,
   "metadata": {},
   "outputs": [
    {
     "name": "stdout",
     "output_type": "stream",
     "text": [
      "[[1 2 1 1 1 0 1 0 0 0]\n",
      " [0 1 0 0 1 1 0 1 1 1]\n",
      " [1 0 0 0 0 0 0 1 0 0]]\n",
      "['is' 'text' 'text text' 'text text is' 'very' 'very different'\n",
      " 'very good' 'voice' 'voice are' 'voice are very']\n",
      "{'text': 1, 'is': 0, 'very': 4, 'text text': 2, 'very good': 6, 'text text is': 3, 'voice': 7, 'voice are': 8, 'very different': 5, 'voice are very': 9}\n"
     ]
    }
   ],
   "source": [
    "print(transformed.toarray())\n",
    "print(cv.get_feature_names_out())\n",
    "print(cv.vocabulary_)"
   ]
  },
  {
   "attachments": {},
   "cell_type": "markdown",
   "metadata": {},
   "source": [
    "### 2. TF-IDF"
   ]
  },
  {
   "cell_type": "code",
   "execution_count": 72,
   "metadata": {},
   "outputs": [],
   "source": [
    "import os\n",
    "from sklearn.feature_extraction.text import TfidfVectorizer\n",
    "vectorizer = TfidfVectorizer(norm=None)"
   ]
  },
  {
   "cell_type": "code",
   "execution_count": 73,
   "metadata": {},
   "outputs": [],
   "source": [
    "transformed = vectorizer.fit_transform(corpus)"
   ]
  },
  {
   "cell_type": "code",
   "execution_count": 74,
   "metadata": {},
   "outputs": [
    {
     "name": "stdout",
     "output_type": "stream",
     "text": [
      "[[0.         0.         0.         1.69314718 1.28768207 0.\n",
      "  2.57536414 1.28768207 0.        ]\n",
      " [1.69314718 1.69314718 1.69314718 0.         0.         0.\n",
      "  1.28768207 1.28768207 1.28768207]\n",
      " [0.         0.         0.         0.         1.28768207 1.69314718\n",
      "  0.         0.         1.28768207]]\n",
      "['and' 'are' 'different' 'good' 'is' 'lound' 'text' 'very' 'voice']\n"
     ]
    }
   ],
   "source": [
    "print(transformed.toarray(), vectorizer.get_feature_names_out(), sep=os.linesep)"
   ]
  },
  {
   "cell_type": "code",
   "execution_count": 75,
   "metadata": {},
   "outputs": [
    {
     "name": "stdout",
     "output_type": "stream",
     "text": [
      "[[3.         0.         1.84729786]\n",
      " [2.         0.         0.        ]\n",
      " [3.         0.         0.        ]\n",
      " [4.         0.         0.        ]\n",
      " [3.         4.50552594 0.        ]\n",
      " [3.         0.         3.69459572]]\n"
     ]
    }
   ],
   "source": [
    "from sklearn.feature_extraction.text import TfidfTransformer\n",
    "transformer = TfidfTransformer(smooth_idf=True, norm=None)\n",
    "corpus2 = [[3, 0, 1], [2, 0, 0], [3, 0, 0], [4, 0, 0], [3, 2, 0], [3, 0, 2]]\n",
    "result = transformer.fit_transform(corpus2)\n",
    "print(result.toarray())"
   ]
  }
 ],
 "metadata": {
  "kernelspec": {
   "display_name": "base",
   "language": "python",
   "name": "python3"
  },
  "language_info": {
   "codemirror_mode": {
    "name": "ipython",
    "version": 3
   },
   "file_extension": ".py",
   "mimetype": "text/x-python",
   "name": "python",
   "nbconvert_exporter": "python",
   "pygments_lexer": "ipython3",
   "version": "3.10.9"
  },
  "orig_nbformat": 4
 },
 "nbformat": 4,
 "nbformat_minor": 2
}
